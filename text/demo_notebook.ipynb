{
 "cells": [
  {
   "metadata": {},
   "cell_type": "markdown",
   "source": [
    "This notebook contains some demos.\n",
    "\n",
    "**Note to self:** `jupyter nbconvert --to rst text/demo_notebook.ipynb` (requires  `pandoc`).\n",
    "\n",
    "# 1. Error handling\n",
    "\n",
    "To report an error (which in Python, is called an `Exception`), just `raise` it:"
   ],
   "id": "6951151cf8cca7b1"
  },
  {
   "cell_type": "code",
   "id": "initial_id",
   "metadata": {
    "collapsed": true
   },
   "source": [
    "import math\n",
    "\n",
    "def _sqrt(x: float, tol: float = 1e-5) -> float:\n",
    "    \"\"\"Computes the square root of a number `x` up to a given convergence `tol`, using the Newton algorithm.\n",
    "    \n",
    "    :math:`x_{n+1} = x_n - \\\\frac{f(x_n)}{f'(x_n)}`, where :math:`f(x)=x^2-a`.\n",
    "    \n",
    "    Arguments:\n",
    "        x: a floating point number\n",
    "    Returns:\n",
    "        the square root of `x`\n",
    "    Raises:\n",
    "        ValueError: if `x` is not a number\n",
    "    \"\"\"\n",
    "    if x < 0:\n",
    "        raise ValueError(\"x must be positive\")\n",
    "    a = 1\n",
    "    while abs(a**2 - x) > tol:\n",
    "        a = .5 * (a + x / a)\n",
    "    \n",
    "    return a\n",
    "\n",
    "assert abs(_sqrt(15) - math.sqrt(15)) < 1e-5\n",
    "\n",
    "# also try this: assert abs(_sqrt(3) - math.sqrt(1)) < 1e-5"
   ],
   "outputs": [],
   "execution_count": null
  },
  {
   "metadata": {},
   "cell_type": "markdown",
   "source": [
    "It is always nice to give a bit of context, so the first (and generally only) argument of an `Exception` is an error message.\n",
    "\n",
    "So, what happen when you use a negative number?"
   ],
   "id": "89fc72c0553d9973"
  },
  {
   "metadata": {},
   "cell_type": "code",
   "source": "print(_sqrt(-2))",
   "id": "831fecee0def9d13",
   "outputs": [],
   "execution_count": null
  },
  {
   "metadata": {},
   "cell_type": "markdown",
   "source": [
    "The exception was raised, interupting the process. In fact, the square root is never computed and nothing is printed!\n",
    "\n",
    "You generally get a *stacktrace*, which is relatively useful in order to debug.\n",
    "\n",
    "But it is sometimes useful to *catch* the error and act accordingly. To do so, put the call in a `try`/`except` bloc:"
   ],
   "id": "fab7f11ec6149b8"
  },
  {
   "metadata": {},
   "cell_type": "code",
   "source": [
    "try:\n",
    "    _sqrt(-2)\n",
    "except ValueError as e:\n",
    "    print('Caught this:', e)"
   ],
   "id": "b0af5c5fcb6edbf0",
   "outputs": [],
   "execution_count": null
  },
  {
   "metadata": {},
   "cell_type": "markdown",
   "source": "Notice that you can *catch* the error. This is useful to nicely report the error to the user. But you can do other things:",
   "id": "3c1b88c3f5a8b804"
  },
  {
   "metadata": {},
   "cell_type": "code",
   "source": [
    "try:\n",
    "    _sqrt(-3)\n",
    "except ValueError as e:\n",
    "    print('This square root is imaginary, and its value is', _sqrt(3), 'i')"
   ],
   "id": "1aeafacc8a128b26",
   "outputs": [],
   "execution_count": null
  },
  {
   "metadata": {},
   "cell_type": "markdown",
   "source": "Note that you *catch* only the error indicated after `except`. For example,",
   "id": "67b4716adbb67732"
  },
  {
   "metadata": {},
   "cell_type": "code",
   "source": [
    "try:\n",
    "    _sqrt('test')\n",
    "except ValueError as e:\n",
    "    print('caughth this:', e)"
   ],
   "id": "30e5dfb2ce89bc80",
   "outputs": [],
   "execution_count": null
  },
  {
   "metadata": {},
   "cell_type": "markdown",
   "source": "The `TypeError` was not *caught* and continue its way up to the main process. You can catch different type of errors by using the following construction:",
   "id": "4d4ecb7898650539"
  },
  {
   "metadata": {},
   "cell_type": "code",
   "source": [
    "try:\n",
    "    _sqrt('test')\n",
    "except (ValueError, TypeError) as e:\n",
    "    print('caught this:', e)"
   ],
   "id": "1992a4453f01e60",
   "outputs": [],
   "execution_count": null
  },
  {
   "metadata": {},
   "cell_type": "markdown",
   "source": [
    "As you can see, the python objects also uses exceptions, which means that there is a bunch of already defined exceptions (postfixed by `Error`) which are available (see a list at https://docs.python.org/3/library/exceptions.html#concrete-exceptions). You can choose any of them for your own functions.\n",
    "\n",
    "## Custom exceptions\n",
    "\n",
    "You can define your own Exceptions, by deriving from `Exception`:"
   ],
   "id": "d35023c290cb4849"
  },
  {
   "metadata": {},
   "cell_type": "code",
   "source": [
    "class CustomException(Exception):\n",
    "    pass\n",
    "\n",
    "class AnotherCustomException(CustomException):\n",
    "    def __init__(self, value: int, problem: str):\n",
    "        super().__init__('Error with {}: {}'.format(value, problem))\n",
    "\n",
    "raise AnotherCustomException(10, 'custom error')"
   ],
   "id": "86e6ae1a08702c32",
   "outputs": [],
   "execution_count": null
  },
  {
   "metadata": {},
   "cell_type": "markdown",
   "source": "Note that the inheritance applies to `except`, so:",
   "id": "3916e7810b113ba9"
  },
  {
   "metadata": {},
   "cell_type": "code",
   "source": [
    "try:\n",
    "    raise AnotherCustomException(10, 'custom error')\n",
    "except CustomException as e:  # this catches AnotherCustomException as well!\n",
    "    print('caught this:', e)"
   ],
   "id": "1c8279fb1012c191",
   "outputs": [],
   "execution_count": null
  },
  {
   "metadata": {},
   "cell_type": "markdown",
   "source": "Finally, note that an error that is not *caught* crawls up in the stack trace. For example,",
   "id": "bd2d29309f9931d6"
  },
  {
   "metadata": {},
   "cell_type": "code",
   "source": [
    "def a():\n",
    "    _sqrt(-2)\n",
    "\n",
    "def b():\n",
    "    try:\n",
    "        a()\n",
    "    except AnotherCustomException as e:\n",
    "        print('error reported in b()', e)\n",
    "\n",
    "def c():\n",
    "    try:\n",
    "        b()\n",
    "    except ValueError as e:\n",
    "        print('Error reported in a():', e)\n",
    "\n",
    "c()  # calls `b()` which itself calls `a()`"
   ],
   "id": "bd195621ddea793d",
   "outputs": [],
   "execution_count": null
  },
  {
   "metadata": {},
   "cell_type": "markdown",
   "source": [
    "The error is *raised* in `a()` but only *caught* in `c()` since, despite a `try`/`except` block in `b()`, the Exception is not *caught* there.\n",
    "\n",
    "## Python principle: \"*easier to ask for forgiveness than permission*\"\n",
    "\n",
    "Python as a few maxims like this. This one is well explained in [this *stackoverflow* answer](https://stackoverflow.com/a/11360880):"
   ],
   "id": "7fbde2b35761371b"
  },
  {
   "metadata": {},
   "cell_type": "code",
   "source": [
    "my_dict = {}\n",
    "\n",
    "# EAFP:\n",
    "try:\n",
    "    x = my_dict['key']\n",
    "except KeyError:\n",
    "    pass\n",
    "\n",
    "# LBYL (\"Look before you leap\"):\n",
    "if 'key' in my_dict:\n",
    "    x = my_dict['key']\n",
    "else:\n",
    "    pass\n"
   ],
   "id": "4b847794b3a0e54f",
   "outputs": [],
   "execution_count": null
  },
  {
   "metadata": {},
   "cell_type": "markdown",
   "source": [
    "The \"LBYL\" version has to search the key inside the dictionary **twice**... and might be considered slightly less readable by some people ;)\n",
    "\n",
    "# 2. Classes and objects\n",
    "\n",
    "To define an ADT, use the `class` keyword. \n",
    "\n",
    "Remember, there are 3 steps:\n",
    "\n",
    "1. specify your ADT,\n",
    "2. specify its methods, and\n",
    "3. choose an irep that fits your specification.\n",
    "\n",
    "Here, my goal is to have an object that represent a tensor, $T^{(n)}$ of rank $n$, and to compute the response, $\\vec r$, to a perturbation $\\vec p$, such that:\n",
    "\n",
    "$$r_i = \\sum_{jk\\ldots} T_{ij\\ldots}\\,p_j\\,p_k\\ldots$$\n",
    "\n",
    "(think unit sphere representation)"
   ],
   "id": "60619e4732ed005"
  },
  {
   "metadata": {},
   "cell_type": "code",
   "source": [
    "import numpy as np\n",
    "\n",
    "class ResponseTensor:\n",
    "    \"\"\"\n",
    "    Represent a response tensor of rank `n`.\n",
    "    Allow to compute the response to a perturbation.\n",
    "    \n",
    "    Invariant:\n",
    "        This ADT is immutable.\n",
    "    \"\"\"\n",
    "    \n",
    "    def __init__(self, rank: int, components: np.ndarray):\n",
    "        \"\"\"\n",
    "        Create a new `ResponseTensor` instance of rank `n`.\n",
    "        \n",
    "        Args:\n",
    "             rank: the rank of the tensor\n",
    "             components: the components of the tensor, must have `len(components.shape) == rank`\n",
    "        \"\"\"\n",
    "        \n",
    "        assert len(components.shape) == rank\n",
    "        \n",
    "        self.rank = rank\n",
    "        self.components = components\n",
    "    \n",
    "    def response(self, perturbation: np.ndarray) -> np.ndarray:\n",
    "        \"\"\"\n",
    "        Compute the response to a perturbation:\n",
    "        \n",
    "        :math:`r_i = \\sum_{jk\\ldots} T_{ijk\\ldots}\\\\,p_j\\\\,p_k\\ldots`.\n",
    "        \n",
    "        Args:\n",
    "            perturbation: the perturbation, must have ``self.components.shape[-1] == perturbation.shape[-1]``.\n",
    "        Returns:\n",
    "            $r$, the response to the perturbation.\n",
    "        \"\"\"\n",
    "        \n",
    "        assert self.components.shape[-1] == perturbation.shape[-1]\n",
    "        \n",
    "        r = self.components.copy()\n",
    "        for i in range(self.rank - 1):\n",
    "            r = r @ perturbation\n",
    "        \n",
    "        return r\n",
    "    \n",
    "    def __mul__(self, n: int|float):\n",
    "        \"\"\"\n",
    "        Create a new `ResponseTensor` instance whose components are multiplied by `n`.\n",
    "        \n",
    "        Args:\n",
    "            n: the number to multiply\n",
    "        Returns:\n",
    "            A new `ResponseTensor` instance whose components are multiplied by `n`.\n",
    "        \"\"\"\n",
    "        assert type(n) in [int, float]\n",
    "        \n",
    "        return ResponseTensor(self.rank, self.components * n)\n",
    "    \n",
    "    def __repr__(self):\n",
    "        return '<ResponseTensor(rank={})>'.format(self.rank)\n",
    "    \n",
    "    def __str__(self):\n",
    "        return 'Response tensor of rank={}:\\n{}'.format(self.rank, self.components)"
   ],
   "id": "21bc20c24fa66505",
   "outputs": [],
   "execution_count": null
  },
  {
   "metadata": {},
   "cell_type": "markdown",
   "source": [
    "Notice that:\n",
    "\n",
    "+ The *irep* (member variables) is defined through the **constructor**, `__init__(self, ...)`. Here, nothing complicate, we simply store the components and the rank of the tensor. \n",
    "+ The constructor defines how you will create instances of this ADT (**objects**). Here, you have to provide two arguments.\n",
    "+ The first argument of all methods, `self`, is an argument to refer to the *instance* on which the method acts.\n",
    "+ Along the constructor, there are others *magic* methods that are defined.\n",
    "+ The invariant tells us that the instances are **immutable** (the tensor cannot change). This means that this class needs *producers* method (which return a new instance) rather than *modifiers* methods (which modifies in-place). See `__mul__()`.\n",
    "\n",
    "To use the ADT, we create an instance, also called an **object**, of it:"
   ],
   "id": "f17656f61b992d02"
  },
  {
   "metadata": {},
   "cell_type": "code",
   "source": [
    "tensor1 = ResponseTensor(2, np.eye(3))\n",
    "tensor2 = ResponseTensor(2, 2 * np.eye(3) - .25 * np.ones((3, 3)))\n",
    "\n",
    "# compute a response to a perturbation, call `response()`:\n",
    "perturbation = np.array([1., 2., .0])\n",
    "perturbation /= np.linalg.norm(perturbation)\n",
    "response = tensor2.response(perturbation)\n",
    "print('response vector:', response)\n",
    "\n",
    "# request its string representation, call `__str__()`\n",
    "print('string representation:', str(tensor2))\n",
    "\n",
    "# request a representation, call `__repr__()`\n",
    "print('repr of list:', [tensor1, tensor2])\n",
    "\n",
    "# use `__mul__()`\n",
    "print('after multiplication:', tensor1 * 3)\n"
   ],
   "id": "f2bd7a3b4c8c5f10",
   "outputs": [],
   "execution_count": null
  },
  {
   "metadata": {},
   "cell_type": "markdown",
   "source": [
    "**Note:** It is totally allowed to directly access the components using `tensor1.components`. However, this is **not recommended**, since `components` is part of the *irep*, and thus \"private\". \n",
    "\n",
    "The developer is responsible for not breaking the API (here, the methods of the class) too much, but it can change the *irep* at any time (it is **not** part of the specification), so if your code relies on directly accessing or modifying *irep*, it might be broken at any update (and, per *programming by contract*, it is not the fault of the developer but **yours**).\n",
    "\n",
    "In this specific case, if you modify `tensor1.components`, you actually break the *invariant*, which means that per *programming by contract*, it is not guaranteed that the implementation will work anymore. And, indeed:"
   ],
   "id": "13083b6e86977d60"
  },
  {
   "metadata": {},
   "cell_type": "code",
   "source": [
    "tensor1.components = np.zeros((3, 3, 3))  # accessing the irep is not forbidden per se\n",
    "print(tensor1)  # ... But you expose yourself to incoherence"
   ],
   "id": "c123879c9151c2d5",
   "outputs": [],
   "execution_count": null
  },
  {
   "metadata": {},
   "cell_type": "markdown",
   "source": [
    "In some languages (C++, Java, etc.), the separation between \"public\" and \"private\" is enforced by the compiler (... But the irep is just a memory zone, so one can still access it if it wants, it is not a security measure). In Python, this is not the case, but the good practice is to mark private variable by starting with an underscore, *e.g.* `_components` (and thus some IDE give a warning when you access an underscore-prefixed variable). This applies to methods, but also package-wide private functions and variables (think *matplotlib*).\n",
    "\n",
    "## Inheritance\n",
    "\n",
    "To specialize your ADT, you can use inheritance:"
   ],
   "id": "f6012ef1507fec0a"
  },
  {
   "metadata": {},
   "cell_type": "code",
   "source": [
    "class PolarizabilityTensor(ResponseTensor):\n",
    "    \"\"\"\n",
    "    A polarizability tensor (second-order response to an electric field).\n",
    "    \n",
    "    Invariant:\n",
    "        The rank of this tensor is 2, and it has 3x3 components.\n",
    "    \"\"\"\n",
    "    \n",
    "    def __init__(self, components: np.ndarray):\n",
    "        \"\"\"Create a new instance of `PolarizabilityTensor`.\n",
    "        \n",
    "        Args:\n",
    "            components: the components of the tensor, must have `components.shape == (3, 3)`.\n",
    "        \"\"\"\n",
    "        \n",
    "        assert components.shape == (3, 3)\n",
    "        \n",
    "        super().__init__(2, components)\n",
    "        \n",
    "    def __str__(self):\n",
    "        return 'Polarizability tensor:\\n{}'.format(self.components)\n",
    "    \n",
    "    def invariant_iso(self):\n",
    "        \"\"\"\n",
    "        Returns:\n",
    "             the isotropic value of the polarizability tensor.\n",
    "        \"\"\"\n",
    "        \n",
    "        # thanks to the invariant, I do not have to check that this is indeed a polarizability tensor\n",
    "        return np.trace(self.components) / 3"
   ],
   "id": "297ae3ad737c7cb9",
   "outputs": [],
   "execution_count": null
  },
  {
   "metadata": {},
   "cell_type": "markdown",
   "source": [
    "Notice that:\n",
    "\n",
    "+ The inherited class (marked with `class Child(Parent)`) inherits **all** methods and members.\n",
    "+ One can redefine some methods (here, `__init__()` and `__str__()`). The one that are not redefined (here, `response()`) act exactly as the one in the parent class. One can access the \"parent\" version by using `super().method()` (see constructor).\n",
    "+ New methods can be defined as well. They are only available for the child.\n",
    "+ It is ok to access the *irep* of the parent in the child. The child can have its own *irep*, thought.\n",
    "+ Remember: the child should never *weaken* the parent's invariant (here, the objects should never become mutable), only stregthen it (here, we imposed extra conditions), so that they can be interchanged. In practice, **it is not always possible**. \n",
    "\n",
    "Example of usage:"
   ],
   "id": "3e3496d4b67fe68"
  },
  {
   "metadata": {},
   "cell_type": "code",
   "source": [
    "tensor3 = PolarizabilityTensor(np.eye(3) - .5 * np.ones((3, 3)))\n",
    "print(tensor3)\n",
    "\n",
    "print('isotropic value:', tensor3.invariant_iso())\n",
    "\n",
    "response = tensor3.response(perturbation)\n",
    "print('response vector:', response)"
   ],
   "id": "783577d9b6b8a882",
   "outputs": [],
   "execution_count": null
  },
  {
   "metadata": {},
   "cell_type": "markdown",
   "source": "Again, the idea is to be able to use `PolarizabilityTensor` at each place where `ResponseTensor` can be used. However, if you need (for some reason) to differenciate between the two, you can use the *reflexivity* capabilities of Python:",
   "id": "ee524fce13225266"
  },
  {
   "metadata": {},
   "cell_type": "code",
   "source": [
    "print(isinstance(tensor3, ResponseTensor))  # true, because of inheritance\n",
    "print(isinstance(tensor3, PolarizabilityTensor))  # true\n",
    "print(isinstance(tensor2, ResponseTensor))  # true\n",
    "print(isinstance(tensor2, PolarizabilityTensor))  # false\n",
    "\n",
    "def f1(tensor: ResponseTensor):\n",
    "    \"\"\"\n",
    "    This function accept any kind of response tensor. \n",
    "    No need to specify each type in the declaration, as a parent or child should be indistinguishable in this function.\n",
    "    This means that the developer should only call methods of the parent.\n",
    "    \"\"\"\n",
    "    pass\n",
    "\n",
    "def f2(tensor: PolarizabilityTensor):\n",
    "    \"\"\"\n",
    "    This function accepts only `PolarizabilityTensor`.\n",
    "    Here, one can use the full set of methods available for this specific type.\n",
    "    \"\"\"\n",
    "    pass"
   ],
   "id": "ded4cb685ab576ec",
   "outputs": [],
   "execution_count": null
  },
  {
   "metadata": {},
   "cell_type": "markdown",
   "source": [
    "## Using OOP\n",
    "\n",
    "In practice, objects are treated as \"convenient big black boxes with methods\" and OOP is used at most occasion, even if the object is not very \"physical\" (*e.g.*, a method such as HF or DFT can be an object, so that they share similar methods).\n",
    "\n",
    "It is particularly useful if you want to define a set of common properties for your objects. This is called an interface:"
   ],
   "id": "b5aec379bfedce32"
  },
  {
   "metadata": {},
   "cell_type": "code",
   "source": [
    "class IMolecule:\n",
    "    \"\"\"\n",
    "    Interface for a molecule, a group of atoms, each with their coordinates.\n",
    "    \"\"\"\n",
    "    \n",
    "    def move(self, displacement: np.ndarray):\n",
    "        \"\"\"\n",
    "        Move the whole molecule by ``displacement``\n",
    "        \n",
    "        Args:\n",
    "            displacement: the displacement vector, must have `len(displacement) == 3`.\n",
    "        \"\"\"\n",
    "        raise NotImplementedError()\n",
    "    \n",
    "class Atom:\n",
    "    \"\"\"An atom, which as a atomic number and a coordinate\"\"\"\n",
    "    \n",
    "    def __init__(self, Z: int, position: np.ndarray):\n",
    "        \"\"\"\n",
    "        Create a new `Atom` instance.\n",
    "        \n",
    "        Args:\n",
    "            Z: the atomic number, must be `> 0`\n",
    "            position: the coordinates of the atom, must have `len(position) == 3`.\n",
    "        \"\"\"\n",
    "        self.Z = Z\n",
    "        self.position = position\n",
    "\n",
    "class MoleculeWithAtomsImpl(IMolecule):\n",
    "    \"\"\"\n",
    "    Concrete implementation of `IMolecule`, as a list of atoms.\n",
    "    It is easy to add new atom to that one, but other modifications might be slower.\n",
    "    \"\"\"\n",
    "    def __init__(self, atoms: list[Atom]):\n",
    "        self.atoms = atoms\n",
    "    \n",
    "    def move(self, displacement: np.ndarray):\n",
    "        for atom in self.atoms:\n",
    "            atom.position += displacement\n",
    "\n",
    "\n",
    "class MoleculeCompactImpl(IMolecule):\n",
    "    \"\"\"\n",
    "    Concrete implementation of `IMolecule`, as list of Z + coordinates.\n",
    "    It is easy to act on the coordinates of that one, but adding/removing atoms is difficult.\n",
    "    \"\"\"\n",
    "    def __init__(self, Z: list[int], positions: np.ndarray):\n",
    "        \"\"\"\n",
    "        Create a new `MoleculeCompactImpl` instance.\n",
    "        \n",
    "        Args:\n",
    "            Z: list of atomic numbers\n",
    "            positions: the coordinates of the molecule, must have `positions.shape == (len(Z), 3)`.\n",
    "        \"\"\"\n",
    "        \n",
    "        self.Z = Z\n",
    "        self.positions = positions\n",
    "    \n",
    "    def move(self, displacement: np.ndarray):\n",
    "        self.positions += displacement"
   ],
   "id": "a14fdaca5ea0a382",
   "outputs": [],
   "execution_count": null
  },
  {
   "metadata": {},
   "cell_type": "markdown",
   "source": "Here, no matter the implementation, all childs should define `move()` with the same signature.",
   "id": "f391773d7003dae3"
  },
  {
   "metadata": {},
   "cell_type": "code",
   "source": "",
   "id": "9f908db3821ce44d",
   "outputs": [],
   "execution_count": null
  }
 ],
 "metadata": {
  "kernelspec": {
   "display_name": "Python 3",
   "language": "python",
   "name": "python3"
  },
  "language_info": {
   "codemirror_mode": {
    "name": "ipython",
    "version": 2
   },
   "file_extension": ".py",
   "mimetype": "text/x-python",
   "name": "python",
   "nbconvert_exporter": "python",
   "pygments_lexer": "ipython2",
   "version": "2.7.6"
  }
 },
 "nbformat": 4,
 "nbformat_minor": 5
}
