{
 "cells": [
  {
   "metadata": {},
   "cell_type": "markdown",
   "source": [
    "Note to self: `jupyter nbconvert --to rst text/demo_notebook.ipynb`.\n",
    "\n",
    "# Error handling\n",
    "\n",
    "To report an error (which in Python, is called an `Exception`), just `raise` it:"
   ],
   "id": "6951151cf8cca7b1"
  },
  {
   "cell_type": "code",
   "id": "initial_id",
   "metadata": {
    "collapsed": true
   },
   "source": [
    "import math\n",
    "\n",
    "def _sqrt(x: float, tol: float = 1e-5) -> float:\n",
    "    \"\"\"Computes the square root of a number `x` up to a given convergence `tol`, using the Newton algorithm.\n",
    "    \n",
    "    :math:`x_{n+1} = x_n - \\\\frac{f(x_n)}{f'(x_n)}`, where :math:`f(x)=x^2-a`.\n",
    "    \n",
    "    Arguments:\n",
    "        x: a floating point number\n",
    "    Returns:\n",
    "        the square root of `x`\n",
    "    Raises:\n",
    "        ValueError: if `x` is not a number\n",
    "    \"\"\"\n",
    "    if x < 0:\n",
    "        raise ValueError(\"x must be positive\")\n",
    "    a = 1\n",
    "    while abs(a**2 - x) > tol:\n",
    "        a = .5 * (a + x / a)\n",
    "    \n",
    "    return a\n",
    "\n",
    "assert abs(_sqrt(15) - math.sqrt(15)) < 1e-5\n",
    "\n",
    "# also try this: assert abs(_sqrt(3) - math.sqrt(1)) < 1e-5"
   ],
   "outputs": [],
   "execution_count": null
  },
  {
   "metadata": {},
   "cell_type": "markdown",
   "source": [
    "It is always nice to give a bit of context, so the first (and generally only) argument of an `Exception` is an error message.\n",
    "\n",
    "So, what happen when you use a negative number?"
   ],
   "id": "89fc72c0553d9973"
  },
  {
   "metadata": {},
   "cell_type": "code",
   "source": "print(_sqrt(-2))",
   "id": "831fecee0def9d13",
   "outputs": [],
   "execution_count": null
  },
  {
   "metadata": {},
   "cell_type": "markdown",
   "source": [
    "The exception was raised, interupting the process. In fact, the square root is never computed and nothing is printed!\n",
    "\n",
    "You generally get a *stacktrace*, which is relatively useful in order to debug.\n",
    "\n",
    "But it is sometimes useful to *catch* the error and act accordingly. To do so, put the call in a `try`/`except` bloc:"
   ],
   "id": "fab7f11ec6149b8"
  },
  {
   "metadata": {},
   "cell_type": "code",
   "source": [
    "try:\n",
    "    _sqrt(-2)\n",
    "except ValueError as e:\n",
    "    print('Caught this:', e)"
   ],
   "id": "b0af5c5fcb6edbf0",
   "outputs": [],
   "execution_count": null
  },
  {
   "metadata": {},
   "cell_type": "markdown",
   "source": "Notice that you can *catch* the error. This is useful to nicely report the error to the user. But you can do other things:",
   "id": "3c1b88c3f5a8b804"
  },
  {
   "metadata": {},
   "cell_type": "code",
   "source": [
    "try:\n",
    "    _sqrt(-3)\n",
    "except ValueError as e:\n",
    "    print('This square root is imaginary, and its value is', _sqrt(3), 'i')"
   ],
   "id": "1aeafacc8a128b26",
   "outputs": [],
   "execution_count": null
  },
  {
   "metadata": {},
   "cell_type": "markdown",
   "source": "Note that you *catch* only the error indicated after `except`. For example,",
   "id": "67b4716adbb67732"
  },
  {
   "metadata": {},
   "cell_type": "code",
   "source": [
    "try:\n",
    "    _sqrt('test')\n",
    "except ValueError as e:\n",
    "    print('caughth this:', e)"
   ],
   "id": "30e5dfb2ce89bc80",
   "outputs": [],
   "execution_count": null
  },
  {
   "metadata": {},
   "cell_type": "markdown",
   "source": "The `TypeError` was not *caught* and continue its way up to the main process. You can catch different type of errors by using the following construction:",
   "id": "4d4ecb7898650539"
  },
  {
   "metadata": {},
   "cell_type": "code",
   "source": [
    "try:\n",
    "    _sqrt('test')\n",
    "except (ValueError, TypeError) as e:\n",
    "    print('caught this:', e)"
   ],
   "id": "1992a4453f01e60",
   "outputs": [],
   "execution_count": null
  },
  {
   "metadata": {},
   "cell_type": "markdown",
   "source": [
    "As you can see, the python objects also uses exceptions, which means that there is a bunch of already defined exceptions (postfixed by `Error`) which are available (see a list at https://docs.python.org/3/library/exceptions.html#concrete-exceptions). You can choose any of them for your own functions.\n",
    "\n",
    "## Custom exceptions\n",
    "\n",
    "You can define your own Exceptions, by deriving from `Exception`:"
   ],
   "id": "d35023c290cb4849"
  },
  {
   "metadata": {},
   "cell_type": "code",
   "source": [
    "class CustomException(Exception):\n",
    "    pass\n",
    "\n",
    "class AnotherCustomException(CustomException):\n",
    "    def __init__(self, value: int, problem: str):\n",
    "        super().__init__('Error with {}: {}'.format(value, problem))\n",
    "\n",
    "raise AnotherCustomException(10, 'custom error')"
   ],
   "id": "86e6ae1a08702c32",
   "outputs": [],
   "execution_count": null
  },
  {
   "metadata": {},
   "cell_type": "markdown",
   "source": "Note that the inheritance applies to `except`, so:",
   "id": "3916e7810b113ba9"
  },
  {
   "metadata": {},
   "cell_type": "code",
   "source": [
    "try:\n",
    "    raise AnotherCustomException(10, 'custom error')\n",
    "except CustomException as e:  # this catches AnotherCustomException as well!\n",
    "    print('caught this:', e)"
   ],
   "id": "1c8279fb1012c191",
   "outputs": [],
   "execution_count": null
  },
  {
   "metadata": {},
   "cell_type": "markdown",
   "source": "Finally, note that an error that is not *caught* crawls up in the stack trace. For example,",
   "id": "bd2d29309f9931d6"
  },
  {
   "metadata": {},
   "cell_type": "code",
   "source": [
    "def a():\n",
    "    _sqrt(-2)\n",
    "\n",
    "def b():\n",
    "    try:\n",
    "        a()\n",
    "    except AnotherCustomException as e:\n",
    "        print('error reported in b()', e)\n",
    "\n",
    "def c():\n",
    "    try:\n",
    "        b()\n",
    "    except ValueError as e:\n",
    "        print('Error reported in a():', e)\n",
    "\n",
    "c()  # calls `b()` which itself calls `a()`"
   ],
   "id": "bd195621ddea793d",
   "outputs": [],
   "execution_count": null
  },
  {
   "metadata": {},
   "cell_type": "markdown",
   "source": [
    "The error is *raised* in `a()` but only *caught* in `c()` since, despite a `try`/`except` block in `b()`, the Exception is not *caught* there.\n",
    "\n",
    "## Python principle: \"*easier to ask for forgiveness than permission*\"\n",
    "\n",
    "Python as a few maxims like this. This one is well explained in [this *stackoverflow* answer](https://stackoverflow.com/a/11360880):"
   ],
   "id": "7fbde2b35761371b"
  },
  {
   "metadata": {},
   "cell_type": "code",
   "source": [
    "my_dict = {}\n",
    "\n",
    "# EAFP:\n",
    "try:\n",
    "    x = my_dict[\"key\"]\n",
    "except KeyError:\n",
    "    pass\n",
    "\n",
    "# LBYL (\"Look before you leap\"):\n",
    "if \"key\" in my_dict:\n",
    "    x = my_dict[\"key\"]\n",
    "else:\n",
    "    pass\n"
   ],
   "id": "4b847794b3a0e54f",
   "outputs": [],
   "execution_count": null
  },
  {
   "metadata": {},
   "cell_type": "markdown",
   "source": "The LBYL version has to search the key inside the dictionary **twice**... and might be considered slightly less readable by some people ;)",
   "id": "60619e4732ed005"
  }
 ],
 "metadata": {
  "kernelspec": {
   "display_name": "Python 3",
   "language": "python",
   "name": "python3"
  },
  "language_info": {
   "codemirror_mode": {
    "name": "ipython",
    "version": 2
   },
   "file_extension": ".py",
   "mimetype": "text/x-python",
   "name": "python",
   "nbconvert_exporter": "python",
   "pygments_lexer": "ipython2",
   "version": "2.7.6"
  }
 },
 "nbformat": 4,
 "nbformat_minor": 5
}
